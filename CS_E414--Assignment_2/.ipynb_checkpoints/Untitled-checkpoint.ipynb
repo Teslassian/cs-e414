{
 "cells": [
  {
   "cell_type": "markdown",
   "id": "atmospheric-report",
   "metadata": {},
   "source": [
    "$l=-\\sum_{n=1}^{N}\\left\\{y_{n} \\ln \\sigma\\left(\\mathbf{w}^{T} \\mathbf{x}_{n}\\right)+\\left(1-y_{n}\\right) \\ln \\left(1-\\sigma\\left(\\mathbf{w}^{T} \\mathbf{x}_{n}\\right)\\right)\\right\\}+\\frac{1}{2 \\lambda} \\mathbf{w}^{T} \\mathbf{w}$"
   ]
  },
  {
   "cell_type": "code",
   "execution_count": 4,
   "id": "involved-martial",
   "metadata": {},
   "outputs": [
    {
     "name": "stdout",
     "output_type": "stream",
     "text": [
      "(2, 2)\n",
      "(2, 1)\n",
      "(2,)\n"
     ]
    }
   ],
   "source": [
    "import numpy as np\n",
    "X = np.array([[5,6],[0.4,1.2]])\n",
    "w = np.array([0.4,0.1])\n",
    "y = np.array([0,1])\n",
    "w = w[:,np.newaxis]\n",
    "lambda_ = 1\n",
    "N = X.shape[1]\n",
    "d = X.shape[0]\n",
    "I = np.eye(d)\n",
    "print(X.shape)\n",
    "print(w.shape)\n",
    "print(y.shape)"
   ]
  },
  {
   "cell_type": "code",
   "execution_count": null,
   "id": "distinguished-hammer",
   "metadata": {},
   "outputs": [],
   "source": [
    "from pprint import pprint\n",
    "\n",
    "def sigmoid(x):\n",
    "    return 1/(1+np.exp(-x))\n",
    "\n",
    "l = 0\n",
    "for n in range(N):\n",
    "    l += y[n] * np.log(sigmoid(w.T @ X[:,n]))     +     (1-y[n]) * np.log(1-sigmoid(w.T @ X[:,n]))\n",
    "\n",
    "l = l * -1\n",
    "l += 1/2/lambda_ * w.T @ w\n",
    "\n",
    "\n",
    "\n",
    "\n",
    "-((y - sigmoid(w_r.T @ X)) @ X.T).T + 1/lambda_*w_r\n",
    "pprint(grad_l)"
   ]
  }
 ],
 "metadata": {
  "kernelspec": {
   "display_name": "Python 3",
   "language": "python",
   "name": "python3"
  },
  "language_info": {
   "codemirror_mode": {
    "name": "ipython",
    "version": 3
   },
   "file_extension": ".py",
   "mimetype": "text/x-python",
   "name": "python",
   "nbconvert_exporter": "python",
   "pygments_lexer": "ipython3",
   "version": "3.8.5"
  }
 },
 "nbformat": 4,
 "nbformat_minor": 5
}
