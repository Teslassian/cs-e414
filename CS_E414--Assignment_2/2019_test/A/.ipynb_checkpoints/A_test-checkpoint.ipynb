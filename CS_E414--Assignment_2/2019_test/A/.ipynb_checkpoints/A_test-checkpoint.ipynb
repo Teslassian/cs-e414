{
 "cells": [
  {
   "cell_type": "markdown",
   "id": "joint-issue",
   "metadata": {},
   "source": [
    "1."
   ]
  },
  {
   "cell_type": "markdown",
   "id": "atmospheric-public",
   "metadata": {},
   "source": [
    "Let $d$ and $N$ denote the dimensionality of your data and the number of observations, respectively.\n",
    "Find the data matrix $\\mathbf{X}$ $(d \\times N)$ below:\n",
    "\n",
    "$$\n",
    "\\left[\\begin{array}{ll}\n",
    "1 & 2 \\\\\n",
    "3 & 4\n",
    "\\end{array}\\right]\n",
    "$$\n",
    "\n",
    "Let $\\mathbf{w}=5^{-1}[1,2]^{\\top}, \\mathbf{y}=[1,0]^{\\top}$ and $\\lambda=1$.\n",
    "Laat $\\mathbf{w}=5^{-1}[1,2]^{\\top}, \\mathbf{y}=[1,0]^{\\top}$ en $\\lambda=1$.\n",
    "The above expressions can be realized with the following Python code:"
   ]
  },
  {
   "cell_type": "code",
   "execution_count": 44,
   "id": "falling-mistress",
   "metadata": {},
   "outputs": [],
   "source": [
    "# import numpy as np\n",
    "\n",
    "# X = np.array([[5,6],[0.4,1.2]])\n",
    "# w = np.array([0.4,0.1])\n",
    "# y = np.array([0,1])\n",
    "\n",
    "import numpy as np\n",
    "\n",
    "X = np.array([[1,2],[3,4]])\n",
    "w = np.array([0.2,0.4])\n",
    "y = np.array([0,1])"
   ]
  },
  {
   "cell_type": "markdown",
   "id": "compressed-digit",
   "metadata": {},
   "source": [
    "In the case of logistic regression the gradient of the negative log-likelihood function is computed as follows:\n",
    "\n",
    "$$\n",
    "\\Delta \\mathbf{l}=-\\sum_{n=1}^{N}\\left(y_{n}-\\sigma\\left(\\mathbf{w}^{T} \\mathbf{x}_{n}\\right)\\right) \\mathbf{x}_{n}+\\frac{1}{\\lambda} \\mathbf{w}\n",
    "$$\n",
    "\n",
    "Compute the following quantities and then choose the closest answer from the given drop down lists.\n",
    "\n",
    "The notation $\\mathbf{x}$ refers to the $i$ -th element of $\\mathbf{x}$. \n",
    "Please use $\\mathrm{X}$ as is. DO NOT append an additional all-one row to $\\mathrm{X}$."
   ]
  },
  {
   "cell_type": "code",
   "execution_count": 45,
   "id": "electronic-serve",
   "metadata": {},
   "outputs": [
    {
     "name": "stdout",
     "output_type": "stream",
     "text": [
      "array([[5. , 6. ],\n",
      "       [0.4, 1.2]])\n",
      "array([[0.4],\n",
      "       [0.1]])\n",
      "array([0, 1])\n",
      "array([[4.37785867],\n",
      "       [0.36461177]])\n"
     ]
    }
   ],
   "source": [
    "from pprint import pprint\n",
    "\n",
    "def sigmoid(x):\n",
    "    return 1/(1+np.exp(-x))\n",
    "\n",
    "lambda_ = 1\n",
    "w_r = w[:,np.newaxis]\n",
    "pprint(X)\n",
    "pprint(w_r)\n",
    "pprint(y)\n",
    "grad_l = -((y - sigmoid(w_r.T @ X)) @ X.T).T + 1/lambda_*w_r\n",
    "pprint(grad_l)"
   ]
  },
  {
   "cell_type": "markdown",
   "id": "peripheral-necessity",
   "metadata": {},
   "source": [
    "2."
   ]
  },
  {
   "cell_type": "markdown",
   "id": "subtle-hands",
   "metadata": {},
   "source": [
    "Let $d$ and $N$ denote the dimensionality of your data and the number of observations, respectively.\n",
    "Find the data matrix $\\mathbf{X}(d \\times N)$ below:\n",
    "\n",
    "$$\n",
    "\\left[\\begin{array}{ll}\n",
    "1 & 2 \\\\\n",
    "3 & 4\n",
    "\\end{array}\\right]\n",
    "$$\n",
    "\n",
    "Let $\\mathbf{w}=5^{-1}[1,2]^{\\top}$ and $\\lambda=1$.\n",
    "Laat $\\mathbf{w}=5^{-1}[1,2]^{\\top}$ en $\\lambda=1$.\n",
    "he above expressions can be realized with the following Python code:"
   ]
  },
  {
   "cell_type": "code",
   "execution_count": 41,
   "id": "visible-management",
   "metadata": {},
   "outputs": [],
   "source": [
    "import numpy as np\n",
    "X = np.array([[5,6],[0.4,1.2]])\n",
    "w = np.array([0.4,0.1])\n",
    "\n",
    "# import numpy as np\n",
    "# X = np.array([[1,2],[3,4]])\n",
    "# w = np.array([0.2,0.4])"
   ]
  },
  {
   "cell_type": "markdown",
   "id": "bound-atlantic",
   "metadata": {},
   "source": [
    "\n",
    "In the case of logistic regression the Hessian matrix is computed as follows:\n",
    "\n",
    "$$\n",
    "\\mathbf{H}=\\sum_{n=1}^{N} \\sigma\\left(\\mathbf{w}^{T} \\mathbf{x}_{n}\\right)\\left(1-\\sigma\\left(\\mathbf{w}^{T} \\mathbf{x}_{n}\\right)\\right) \\mathbf{x}_{n} \\mathbf{x}_{n}^{T}+\\frac{1}{\\lambda} \\mathbf{I}\n",
    "$$\n",
    "\n",
    "Compute the following quantities and then choose the closest answer from the given drop down lists.\n",
    "\n",
    "The notation $\\mathrm{X}$. refers to the $\\ddot{y}$ -th element of $\\mathrm{X}$. Please use $\\mathrm{X}$ as is. DO NOT append an additional all-one row to $\\mathrm{X}$."
   ]
  },
  {
   "cell_type": "code",
   "execution_count": 42,
   "id": "damaged-wagner",
   "metadata": {},
   "outputs": [],
   "source": [
    "def sigmoid(x):\n",
    "    return 1/(1+np.exp(-x))\n",
    "\n",
    "w = w[:,np.newaxis]"
   ]
  },
  {
   "cell_type": "code",
   "execution_count": 43,
   "id": "changing-portuguese",
   "metadata": {},
   "outputs": [
    {
     "name": "stdout",
     "output_type": "stream",
     "text": [
      "[[6.02686841 0.69989454]\n",
      " [0.69989454 1.11554058]]\n"
     ]
    }
   ],
   "source": [
    "lambda_ = 1\n",
    "N = X.shape[1]\n",
    "d = X.shape[0]\n",
    "I = np.eye(d)\n",
    "H = 0\n",
    "for n in range(N):\n",
    "    H += sigmoid(w.T @ X[:,n]) * (1-sigmoid(w.T @ X[:,n])) * (X[:,n,None] @ X[:,n,None].T)\n",
    "H += 1/lambda_*I\n",
    "print(H)    "
   ]
  },
  {
   "cell_type": "markdown",
   "id": "black-label",
   "metadata": {},
   "source": [
    "3."
   ]
  },
  {
   "cell_type": "markdown",
   "id": "alien-straight",
   "metadata": {},
   "source": [
    "Let $d$ and $N$ denote the dimensionality of your data and the number of observations, respectively.\n",
    "Find the data matrix $\\mathbf{X}(d \\times N)$ below:\n",
    "\n",
    "$$\n",
    "\\left[\\begin{array}{llll}\n",
    "1 & 2 & 3 & 4 \\\\\n",
    "5 & 6 & 7 & 8\n",
    "\\end{array}\\right]\n",
    "$$\n",
    "\n",
    "The corresponding label vector $\\mathbf{y}$ is equal to [1 2 1 2]. In the case of the naive Bayes classifier we calculate the mean and the variance associated with each feature dimension $n$ and class $j$ as follows:\n",
    "\n",
    "$$\n",
    "\\begin{array}{c}\n",
    "u_{n j}=\\frac{1}{N_{j}} \\sum x_{n j} \\\\\n",
    "\\sigma_{n j}^{2}=\\frac{1}{N_{j}} \\sum\\left(x_{n j}-u_{n j}\\right)^{2}\n",
    "\\end{array}\n",
    "$$\n",
    "\n",
    "Compute the following quantities and then choose the closest answer from the given drop-down lists."
   ]
  },
  {
   "cell_type": "code",
   "execution_count": 33,
   "id": "operational-distribution",
   "metadata": {},
   "outputs": [],
   "source": [
    "X = np.array([[1,2,3,5],[5,6,7,8]])\n",
    "y = np.array([1,2,1,2])"
   ]
  },
  {
   "cell_type": "code",
   "execution_count": 34,
   "id": "requested-drain",
   "metadata": {},
   "outputs": [],
   "source": [
    "N = X.shape[1]\n",
    "d = X.shape[0]\n",
    "C = list(set(y))\n",
    "K = len(C)"
   ]
  },
  {
   "cell_type": "code",
   "execution_count": 35,
   "id": "literary-store",
   "metadata": {},
   "outputs": [],
   "source": [
    "Nj = []\n",
    "for c in C:\n",
    "    Nj.append(len(y[y==c]))"
   ]
  },
  {
   "cell_type": "code",
   "execution_count": 36,
   "id": "intensive-venice",
   "metadata": {},
   "outputs": [
    {
     "name": "stdout",
     "output_type": "stream",
     "text": [
      "[array([[2.],\n",
      "       [6.]]), array([[3.5],\n",
      "       [7. ]])]\n",
      "[array([1., 1.]), array([2.25, 1.  ])]\n"
     ]
    }
   ],
   "source": [
    "Uj = []\n",
    "Sj = []\n",
    "for c,i in zip(C, range(K)):\n",
    "    Uj.append(1/Nj[i] * np.sum(X[:,y==c], axis=1)[:,np.newaxis])\n",
    "    Sj.append(1/Nj[i] * np.sum((X[:,y==c]-Uj[i]) * (X[:,y==c]-Uj[i]), axis=1))\n",
    "pprint(Uj)\n",
    "pprint(Sj)"
   ]
  },
  {
   "cell_type": "markdown",
   "id": "normal-providence",
   "metadata": {},
   "source": [
    "$$\n",
    "\\begin{array}{c}\n",
    "u_{n j}=\\frac{1}{N_{j}} \\sum x_{n j} \\\\\n",
    "\\sigma_{n j}^{2}=\\frac{1}{N_{j}} \\sum\\left(x_{n j}-u_{n j}\\right)^{2}\n",
    "\\end{array}\n",
    "$$"
   ]
  }
 ],
 "metadata": {
  "kernelspec": {
   "display_name": "Python 3",
   "language": "python",
   "name": "python3"
  },
  "language_info": {
   "codemirror_mode": {
    "name": "ipython",
    "version": 3
   },
   "file_extension": ".py",
   "mimetype": "text/x-python",
   "name": "python",
   "nbconvert_exporter": "python",
   "pygments_lexer": "ipython3",
   "version": "3.8.5"
  }
 },
 "nbformat": 4,
 "nbformat_minor": 5
}
