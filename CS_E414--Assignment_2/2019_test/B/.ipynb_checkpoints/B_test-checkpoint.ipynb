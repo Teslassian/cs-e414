{
 "cells": [
  {
   "cell_type": "markdown",
   "id": "egyptian-pathology",
   "metadata": {},
   "source": [
    "In this question you may assume that you are dealing with a two class problem and that you are only considering a single classification feature.\n",
    "\n",
    "When training a Naive Bayes Classifier (assume underlying Gaussian class-conditional distributions) we need to estimate a $\\mathbf{u}$ (the class mean vector) and a $\\boldsymbol{\\Sigma}$ (the class covariance matrix) for each class. In this question we are considering the one-dimensional case.\n",
    "Please write a Python 3 function which takes in a one-dimensional list $x$ of classification features where each element of the list corresponds to either of two classes and a one-dimensional list of class labels c (containing only the integers 0 and 1) and returns the estimated mean values associated with both classes. The label of feature $x[k]$ is $c[k]$, implying that the length of $x$ and $c$ are equal.\n",
    "NOTE: numpy may NOT be used. Trying to use it will give a compilation error and result in you loosing marks. Please ensure that your result is two real numbers. Return $0.0$ for a class mean if you have no observations for that class."
   ]
  },
  {
   "cell_type": "code",
   "execution_count": 19,
   "id": "yellow-honey",
   "metadata": {},
   "outputs": [],
   "source": [
    "from pprint import pprint"
   ]
  },
  {
   "cell_type": "code",
   "execution_count": 20,
   "id": "still-complaint",
   "metadata": {},
   "outputs": [],
   "source": [
    "def estimate_u(x,c):\n",
    "    N = len(x)\n",
    "    u0 = 0\n",
    "    u1 = 0\n",
    "    count0 = 0\n",
    "    count1 = 0\n",
    "    \n",
    "    for n in range(N):\n",
    "        if (c[n]==0):\n",
    "            u0 += x[n]\n",
    "            count0 += 1\n",
    "        else:\n",
    "            u1 += x[n]\n",
    "            count1 += 1\n",
    "    \n",
    "    if count0:\n",
    "        u0 /= count0\n",
    "    if count1:\n",
    "        u1 /= count1\n",
    "    \n",
    "    return u0, u1"
   ]
  },
  {
   "cell_type": "code",
   "execution_count": 21,
   "id": "cloudy-humor",
   "metadata": {},
   "outputs": [
    {
     "name": "stdout",
     "output_type": "stream",
     "text": [
      "(2.0, 3.0)\n"
     ]
    }
   ],
   "source": [
    "pprint(estimate_u([1,3,3],[0,1,0]))"
   ]
  },
  {
   "cell_type": "code",
   "execution_count": 22,
   "id": "useful-release",
   "metadata": {},
   "outputs": [
    {
     "name": "stdout",
     "output_type": "stream",
     "text": [
      "(1.5, 4.0)\n"
     ]
    }
   ],
   "source": [
    "pprint(estimate_u([1,3,2,5],[0,1,0,1]))"
   ]
  },
  {
   "cell_type": "code",
   "execution_count": 23,
   "id": "median-holocaust",
   "metadata": {},
   "outputs": [
    {
     "name": "stdout",
     "output_type": "stream",
     "text": [
      "(1.0, 0)\n"
     ]
    }
   ],
   "source": [
    "pprint(estimate_u([1,1,1,1],[0,0,0,0]))"
   ]
  },
  {
   "cell_type": "code",
   "execution_count": 24,
   "id": "welcome-vacation",
   "metadata": {},
   "outputs": [
    {
     "name": "stdout",
     "output_type": "stream",
     "text": [
      "(0, 1.0)\n"
     ]
    }
   ],
   "source": [
    "pprint(estimate_u([1,1,1,1],[1,1,1,1]))"
   ]
  }
 ],
 "metadata": {
  "kernelspec": {
   "display_name": "Python 3",
   "language": "python",
   "name": "python3"
  },
  "language_info": {
   "codemirror_mode": {
    "name": "ipython",
    "version": 3
   },
   "file_extension": ".py",
   "mimetype": "text/x-python",
   "name": "python",
   "nbconvert_exporter": "python",
   "pygments_lexer": "ipython3",
   "version": "3.8.5"
  }
 },
 "nbformat": 4,
 "nbformat_minor": 5
}
