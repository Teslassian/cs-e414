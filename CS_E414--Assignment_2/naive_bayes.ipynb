{
 "cells": [
  {
   "cell_type": "code",
   "execution_count": 1,
   "metadata": {},
   "outputs": [],
   "source": [
    "import numpy as np\n",
    "import math\n",
    "from sklearn.utils.extmath import softmax\n",
    "from import_NB import import_NB\n",
    "from pprint import pprint"
   ]
  },
  {
   "cell_type": "code",
   "execution_count": 2,
   "metadata": {},
   "outputs": [],
   "source": [
    "'''Import data and set parameters'''\n",
    "X, y = import_NB()                       # Input data & labels\n",
    "d = X.shape[0]                           # Number of dimensions\n",
    "N = X.shape[1]                           # Number of samples\n",
    "C = list(set(y))                         # Classes\n",
    "K = len(C)                               # Number of classes\n",
    "Nj = []                                  # Number of samples per class\n",
    "for c in C:\n",
    "    Nj.append(len(y[y==c]))"
   ]
  },
  {
   "cell_type": "code",
   "execution_count": 3,
   "metadata": {},
   "outputs": [
    {
     "name": "stdout",
     "output_type": "stream",
     "text": [
      "(2, 2)\n"
     ]
    }
   ],
   "source": [
    "'''Maximum Likelihood Estimations'''\n",
    "PCj = []   # Prior Probabilities\n",
    "Uj = []    # Class Means\n",
    "u_Sj = []  # Variances\n",
    "Sj = []    # Diagonal Covariance Matrix - check how to do this if it's shared\n",
    "for c, i in zip(C, range(K)):\n",
    "    PCj.append(Nj[i]/N)\n",
    "    Uj.append(1/Nj[i] * np.sum(X[:,y==c], axis=1)[:,np.newaxis])\n",
    "    u_Sj.append(1/Nj[i] * np.sum((X[:,y==c]-Uj[i]) * (X[:,y==c]-Uj[i]), axis=1))\n",
    "    Sj.append(np.diag(np.diagonal(1/Nj[i] * (X[:,y==c]-Uj[i]) @ (X[:,y==c]-Uj[i]).T)))"
   ]
  },
  {
   "cell_type": "code",
   "execution_count": 5,
   "metadata": {},
   "outputs": [
    {
     "name": "stdout",
     "output_type": "stream",
     "text": [
      "(1000, 1000)\n"
     ]
    }
   ],
   "source": [
    "'''Class-conditional distributions'''\n",
    "# np.set_printoptions(suppress=True)\n",
    "\n",
    "# u_PXCj = []\n",
    "# for i in range(K):\n",
    "#     bruh = 1\n",
    "#     for n in range(d):\n",
    "#         bruh *= 1/np.sqrt(2*np.pi*u_Sj[i][n])  *  np.exp(-0.5 * ((X[n,:] - Uj[i][n])**2)/u_Sj[i][n])\n",
    "#     u_PXCj.append(bruh)\n",
    "    \n",
    "PXCj = []    \n",
    "for i in range(K):\n",
    "    temp = 1/np.sqrt(np.linalg.det(2*np.pi*Sj[i]))  *  np.exp(-0.5 * (X-Uj[i]).T @ np.linalg.inv(Sj[i]) @ (X-Uj[i]))\n",
    "    PXCj.append(np.diagonal(temp))"
   ]
  },
  {
   "cell_type": "code",
   "execution_count": 39,
   "metadata": {
    "tags": []
   },
   "outputs": [],
   "source": [
    "'''Posterior Probabilities'''\n",
    "PCjX = []\n",
    "for i in range(K):\n",
    "    PCjX.append(PCj[i] * PXCj[i])"
   ]
  },
  {
   "cell_type": "code",
   "execution_count": 40,
   "metadata": {},
   "outputs": [],
   "source": [
    "'''Maximum Posterior Selection'''\n",
    "y_pred = np.zeros(N)\n",
    "for n in range(N):\n",
    "    temp = np.zeros(K)\n",
    "    for i in range(K):\n",
    "        temp[i] = PCjX[i][n]\n",
    "    y_pred[n] = np.argmax(temp)\n",
    "y_pred = y_pred.astype(int)"
   ]
  }
 ],
 "metadata": {
  "kernelspec": {
   "display_name": "Python 3",
   "language": "python",
   "name": "python3"
  },
  "language_info": {
   "codemirror_mode": {
    "name": "ipython",
    "version": 3
   },
   "file_extension": ".py",
   "mimetype": "text/x-python",
   "name": "python",
   "nbconvert_exporter": "python",
   "pygments_lexer": "ipython3",
   "version": "3.8.5"
  },
  "widgets": {
   "state": {
    "1e995b3cf08a4dde89a4f98d36100b4e": {
     "views": []
    },
    "22e8d02e22734631ac89835a3ee6c264": {
     "views": []
    },
    "4d54b6e490414dbcadd95b8a615fb2a1": {
     "views": []
    },
    "62ba560ca58c4da892117bca7f6fa9a9": {
     "views": []
    },
    "8a08ef3f36ff412f8a9a0eb3d66537ca": {
     "views": []
    },
    "8fc28dcd900f40398066d0bb93b4b02d": {
     "views": [
      {
       "cell_index": 20
      }
     ]
    },
    "92932ec08bea476e8370722ee5d51d51": {
     "views": []
    },
    "9439499ab9484e05abb40497c8389931": {
     "views": []
    },
    "94be00fa834648e29162ff40ec77694e": {
     "views": []
    },
    "cd5fcc64b09b4b6299c3ef8c66065546": {
     "views": []
    },
    "d0df71b154a740c78d52456923df87a3": {
     "views": [
      {
       "cell_index": 23
      }
     ]
    },
    "ff27897c2d224808ad8c6e680968cbb5": {
     "views": [
      {
       "cell_index": 14
      }
     ]
    }
   },
   "version": "1.1.2"
  }
 },
 "nbformat": 4,
 "nbformat_minor": 4
}
