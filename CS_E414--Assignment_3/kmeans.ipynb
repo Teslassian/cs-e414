{
 "cells": [
  {
   "cell_type": "markdown",
   "id": "mental-cheese",
   "metadata": {},
   "source": [
    "**Please write a generic python function (in a separate package) which implements a generic version of the K-means algorithm. Your function should take as input a $d$-dimensional data set and the number of clusters into which you wish to group your data set. Return the means of your K-clusters and the assigned labels of your dataset (use 1-of-K coding to represent your labels). Initialize your means with two random samples.**"
   ]
  },
  {
   "cell_type": "code",
   "execution_count": 77,
   "id": "narrative-strap",
   "metadata": {},
   "outputs": [
    {
     "name": "stdout",
     "output_type": "stream",
     "text": [
      "[array([[ 0.04289956],\n",
      "       [-0.05465693]]), array([[-0.04180598],\n",
      "       [-0.00794174]])]\n",
      "[array([[1.95564768],\n",
      "       [1.93533463]]), array([[-1.95460587],\n",
      "       [-1.99497005]])]\n",
      "[array([[1.95564768],\n",
      "       [1.93533463]]), array([[-1.95460587],\n",
      "       [-1.99497005]])]\n",
      "[array([[1.95564768],\n",
      "       [1.93533463]]), array([[-1.95460587],\n",
      "       [-1.99497005]])]\n",
      "[array([[1.95564768],\n",
      "       [1.93533463]]), array([[-1.95460587],\n",
      "       [-1.99497005]])]\n"
     ]
    }
   ],
   "source": [
    "import numpy as np\n",
    "from importer import *\n",
    "\n",
    "X, y = kmeans_data()\n",
    "d = X.shape[0]\n",
    "N = X.shape[1]\n",
    "l = np.random.randint(0,2,(N,))\n",
    "C = list(set(l))\n",
    "K = len(C)\n",
    "max_iter = 500\n",
    "\n",
    "for i in range(max_iter):\n",
    "    u = []\n",
    "    for c in C:\n",
    "        u.append((np.sum(X[:,l==c], axis=1) / np.sum([l==1]))[:,np.newaxis])\n",
    "    Xk = np.zeros((N,K))\n",
    "    for k in range(K):\n",
    "        Xk[:,k] = np.linalg.norm((X - u[k]), axis=0)\n",
    "    l = np.argmin(Xk, axis=1)"
   ]
  },
  {
   "cell_type": "code",
   "execution_count": null,
   "id": "congressional-strike",
   "metadata": {},
   "outputs": [],
   "source": []
  }
 ],
 "metadata": {
  "kernelspec": {
   "display_name": "Python 3",
   "language": "python",
   "name": "python3"
  },
  "language_info": {
   "codemirror_mode": {
    "name": "ipython",
    "version": 3
   },
   "file_extension": ".py",
   "mimetype": "text/x-python",
   "name": "python",
   "nbconvert_exporter": "python",
   "pygments_lexer": "ipython3",
   "version": "3.8.5"
  }
 },
 "nbformat": 4,
 "nbformat_minor": 5
}
