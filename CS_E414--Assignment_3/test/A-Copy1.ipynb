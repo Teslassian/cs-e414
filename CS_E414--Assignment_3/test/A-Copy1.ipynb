{
 "cells": [
  {
   "cell_type": "code",
   "execution_count": 10,
   "id": "naked-colombia",
   "metadata": {},
   "outputs": [],
   "source": [
    "import numpy as np\n",
    "from pprint import pprint\n",
    "X = np.array([[179,165,175,185,158]])\n",
    "Uj = [175, 165]\n",
    "Sj = [10, 10]\n",
    "Pj = [0.6, 0.4]\n",
    "C = [0, 1]\n",
    "D = 1\n",
    "N = 5\n",
    "K = 2"
   ]
  },
  {
   "cell_type": "code",
   "execution_count": 19,
   "id": "powered-cooking",
   "metadata": {},
   "outputs": [
    {
     "name": "stdout",
     "output_type": "stream",
     "text": [
      "[0.600620563098045, 0.3993794369019551]\n",
      "[array([[17.15210246]]), array([[12.32757169]])]\n",
      "[array([[179.64847663]]), array([[161.49912801]])]\n"
     ]
    }
   ],
   "source": [
    "PnjGnj = []\n",
    "PnjGnj_sum = 0\n",
    "Ynj = []\n",
    "for c, k in zip(C, range(K)):\n",
    "    PnGn = np.zeros((N))\n",
    "    for n in range(N):\n",
    "        PnGn[n] = Pj[k] * 1/np.sqrt(2*np.pi*Sj[k]) * np.exp(-0.5 * 1/Sj[k] * (X[:,n]-Uj[k])**2)\n",
    "    PnjGnj.append(PnGn)\n",
    "    PnjGnj_sum += PnjGnj[k]\n",
    "for c, k in zip(C, range(K)):\n",
    "    Ynj.append(PnjGnj[k] / PnjGnj_sum)\n",
    "    \n",
    "# Maximization Step\n",
    "Nj = []\n",
    "Pj = []\n",
    "Uj = []\n",
    "Sj = []\n",
    "for c, k in zip(C, range(K)):\n",
    "    Nj.append(np.sum(Ynj[k]))\n",
    "    Pj.append(Nj[k]/N)\n",
    "    Uj.append((1/Nj[k] * X @ Ynj[k][:,np.newaxis]))\n",
    "    Sj.append(1/Nj[k] * (Ynj[k] * (X - Uj[k])) @ (X - Uj[k]).T)\n",
    "    \n",
    "print(Pj)\n",
    "print(Sj)\n",
    "print(Uj)\n"
   ]
  },
  {
   "cell_type": "code",
   "execution_count": null,
   "id": "periodic-cornell",
   "metadata": {},
   "outputs": [],
   "source": []
  }
 ],
 "metadata": {
  "kernelspec": {
   "display_name": "Python 3",
   "language": "python",
   "name": "python3"
  },
  "language_info": {
   "codemirror_mode": {
    "name": "ipython",
    "version": 3
   },
   "file_extension": ".py",
   "mimetype": "text/x-python",
   "name": "python",
   "nbconvert_exporter": "python",
   "pygments_lexer": "ipython3",
   "version": "3.8.5"
  }
 },
 "nbformat": 4,
 "nbformat_minor": 5
}
