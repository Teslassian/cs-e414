{
 "cells": [
  {
   "cell_type": "code",
   "execution_count": 4,
   "id": "introductory-distribution",
   "metadata": {},
   "outputs": [
    {
     "name": "stdout",
     "output_type": "stream",
     "text": [
      "[0.3, 0.7]\n",
      "[array([[1.2],\n",
      "       [0.4]]), array([[-4.4],\n",
      "       [ 1. ]])]\n",
      "[array([[ 0.8, -0.4],\n",
      "       [-0.4,  1. ]]),\n",
      " array([[ 1.2, -0.8],\n",
      "       [-0.8,  1. ]])]\n"
     ]
    }
   ],
   "source": [
    "import numpy as np\n",
    "from pprint import pprint\n",
    "\n",
    "X = np.array([[ 0.70849269, -0.61451051, -4.13847659, -3.58846251],[-0.81884773,  0.34072422,  0.37639262,  0.10408057]])\n",
    "p = np.array([0.3,0.7]) # proportions\n",
    "Pj = [0.3, 0.7]\n",
    "u = np.array([[1.2, 0.4], [-4.4, 1.0]]) # means\n",
    "Uj = [np.array([[1.2], [0.4]]), np.array([[-4.4], [1.0]])]\n",
    "s = np.array([[0.8, -0.4],[-0.4, 1.0],[1.2, -0.8],[-0.8, 1.0]]) # covariance matrices\n",
    "Sj = [np.array([[0.8, -0.4],[-0.4, 1.0]]),   np.array([[1.2, -0.8],[-0.8, 1.0]])] # covariance matrices\n",
    "pprint(Pj)\n",
    "pprint(Uj)\n",
    "pprint(Sj)"
   ]
  },
  {
   "cell_type": "code",
   "execution_count": 5,
   "id": "greater-endorsement",
   "metadata": {},
   "outputs": [
    {
     "name": "stdout",
     "output_type": "stream",
     "text": [
      "[array([9.99985850e-01, 9.97848217e-01, 1.01239220e-10, 3.91429451e-09]), array([1.41504918e-05, 2.15178270e-03, 1.00000000e+00, 9.99999996e-01])]\n"
     ]
    }
   ],
   "source": [
    "d = X.shape[0]\n",
    "N = X.shape[1]\n",
    "C = [0,1]\n",
    "K = len(C)\n",
    "\n",
    "PnjGnj = []\n",
    "PnjGnj_sum = 0\n",
    "Ynj = []\n",
    "for c, k in zip(C, range(K)):\n",
    "    PnGn = np.zeros((N))\n",
    "    for n in range(N):\n",
    "        PnGn[n] = Pj[k] * 1/np.sqrt(np.linalg.det(2*np.pi*Sj[k])) * np.exp(-0.5*(X[:,n,None]-Uj[k]).T @ np.linalg.inv(Sj[k]) @ (X[:,n,None]-Uj[k]))\n",
    "    PnjGnj.append(PnGn)\n",
    "    PnjGnj_sum += PnjGnj[k]\n",
    "for c, k in zip(C, range(K)):\n",
    "    Ynj.append(PnjGnj[k] / PnjGnj_sum)\n",
    "\n",
    "print(Ynj)\n",
    "    "
   ]
  },
  {
   "cell_type": "code",
   "execution_count": null,
   "id": "coordinate-monte",
   "metadata": {},
   "outputs": [],
   "source": [
    "# Maximization Step\n",
    "Nj = []\n",
    "Pj = []\n",
    "Uj = []\n",
    "Sj = []\n",
    "for c, k in zip(C, range(K)):\n",
    "    Nj.append(np.sum(Ynj[k]))\n",
    "    Pj.append(Nj[k]/N)\n",
    "    Uj.append((1/Nj[k] * X @ Ynj[k][:,np.newaxis]))\n",
    "    Sj.append(1/Nj[k] * (Ynj[k] * (X - Uj[k])) @ (X - Uj[k]).T)\n",
    "\n",
    "\n",
    "Probabilities = Ynj[0]\n",
    "for k in range(K-1):\n",
    "Probabilities = np.stack((Probabilities, Ynj[k+1]), axis=0)\n",
    "labels = np.argmax(Probabilities, axis=0)\n",
    "\n",
    "print(Ynj[0].shape)"
   ]
  }
 ],
 "metadata": {
  "kernelspec": {
   "display_name": "Python 3",
   "language": "python",
   "name": "python3"
  },
  "language_info": {
   "codemirror_mode": {
    "name": "ipython",
    "version": 3
   },
   "file_extension": ".py",
   "mimetype": "text/x-python",
   "name": "python",
   "nbconvert_exporter": "python",
   "pygments_lexer": "ipython3",
   "version": "3.8.5"
  }
 },
 "nbformat": 4,
 "nbformat_minor": 5
}
