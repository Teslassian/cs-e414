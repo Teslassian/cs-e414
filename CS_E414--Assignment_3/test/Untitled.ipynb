{
 "cells": [
  {
   "cell_type": "code",
   "execution_count": 4,
   "id": "nuclear-charity",
   "metadata": {},
   "outputs": [],
   "source": [
    "'''\n",
    "Computes responsibilities. Assumes one-dimensional data and a k component mixture model.\n",
    "\n",
    "@param p: mixture coeffecients.\n",
    "@type p: 1-dimensional real valued list of length k.\n",
    "\n",
    "@param u: class means.\n",
    "@type u: 1-dimensional real valued list of length k.\n",
    "\n",
    "@param s: class standard deviations.\n",
    "@type s: 1-dimensional real valued list of length k.\n",
    "\n",
    "@param x: vector of scalar observations\n",
    "@type x: 1-dimensional real valued list of length n.\n",
    "\n",
    "@param c: class label\n",
    "@type c: an integer in the range [0, k-1]\n",
    "\n",
    "@return: the calculated responsibility of each observation associated with class c\n",
    "@rtype: 1-dimensional real valued list of size n\n",
    "'''\n",
    "def estimate_gamma(p,u,s,x,c):\n",
    "    import math\n",
    "    from math import exp\n",
    "    from math import sqrt\n",
    "\n",
    "    g = []\n",
    "    for i in range(len(x)):\n",
    "        gamma = (1.0) / (s[c] * sqrt(math.pi * 2))\n",
    "        gamma = p[c] *  gamma * math.exp((-1.0 / (2 * (s[c] ** 2))) * ((x[i] - u[c]) ** 2))\n",
    "        g.append(gamma)\n",
    "\n",
    "    sum_vals = []\n",
    "    for i in range(len(x)):\n",
    "        sum_val = 0\n",
    "        for j in range(len(u)):\n",
    "            gamma = (1.0) / (s[j] * sqrt(math.pi * 2))\n",
    "            gamma = p[j] *  gamma * math.exp((-1.0 / (2 * (s[j] ** 2))) * ((x[i] - u[j]) ** 2))\n",
    "            sum_val += gamma\n",
    "        sum_vals.append(sum_val)\n",
    "\n",
    "    for i in range(len(x)):\n",
    "        g[i] = g[i] / sum_vals[i]\n",
    "        g[i] = round(g[i], 4)\n",
    "\n",
    "    \n",
    "    \n",
    "    return g\n",
    "    \n",
    "# g1 = estimate_gamma([0.4, 0.6], [0, 1], [0.5, 0.6], [0.1, -0.2, -3, 0.4, 0.5, -3, 7], 1)\n",
    "# g0 = estimate_gamma([0.4, 0.6], [0, 1], [0.5, 0.6], [0.1, -0.2, -3, 0.4, 0.5, -3, 7], 0)\n",
    "g0 = estimate_gamma([0.6, 0.4], [175, 165], [3.16227766, 3.16227766], [179, 165, 175, 185, 158], 0)\n",
    "g1 = estimate_gamma([0.6, 0.4], [175, 165], [3.16227766, 3.16227766], [179, 165, 175, 185, 158], 1)"
   ]
  },
  {
   "cell_type": "code",
   "execution_count": 5,
   "id": "magnetic-consumer",
   "metadata": {},
   "outputs": [
    {
     "name": "stdout",
     "output_type": "stream",
     "text": [
      "0.9999\n",
      "0.0001\n",
      "1.0\n",
      "0.01\n",
      "0.99\n",
      "1.0\n",
      "0.9955\n",
      "0.0045\n",
      "1.0\n",
      "1.0\n",
      "0.0\n",
      "1.0\n",
      "0.0\n",
      "1.0\n",
      "1.0\n"
     ]
    }
   ],
   "source": [
    "for n in range(len(g1)):\n",
    "    print(g0[n])\n",
    "    print(g1[n])\n",
    "    print(g0[n]+g1[n])"
   ]
  },
  {
   "cell_type": "code",
   "execution_count": 4,
   "id": "secure-convert",
   "metadata": {},
   "outputs": [
    {
     "name": "stdout",
     "output_type": "stream",
     "text": [
      "[0.7072, 0.8451, 0.982, 0.4892, 0.4071, 0.982, 0.0]\n"
     ]
    }
   ],
   "source": [
    "# Maximization Step\n",
    "Nj = []\n",
    "Pj = []\n",
    "Uj = []\n",
    "Sj = []\n",
    "for c, k in zip(C, range(K)):\n",
    "    Nj.append(np.sum(Ynj[k]))\n",
    "    Pj.append(Nj[k]/N)\n",
    "    Uj.append((1/Nj[k] * X @ Ynj[k][:,np.newaxis]))\n",
    "    Sj.append(1/Nj[k] * (Ynj[k] * (X - Uj[k])) @ (X - Uj[k]).T)\n",
    "\n",
    "\n",
    "Probabilities = Ynj[0]\n",
    "for k in range(K-1):\n",
    "Probabilities = np.stack((Probabilities, Ynj[k+1]), axis=0)\n",
    "labels = np.argmax(Probabilities, axis=0)\n",
    "\n",
    "print(Ynj[0].shape)"
   ]
  },
  {
   "cell_type": "code",
   "execution_count": null,
   "id": "ruled-klein",
   "metadata": {},
   "outputs": [],
   "source": []
  }
 ],
 "metadata": {
  "kernelspec": {
   "display_name": "Python 3",
   "language": "python",
   "name": "python3"
  },
  "language_info": {
   "codemirror_mode": {
    "name": "ipython",
    "version": 3
   },
   "file_extension": ".py",
   "mimetype": "text/x-python",
   "name": "python",
   "nbconvert_exporter": "python",
   "pygments_lexer": "ipython3",
   "version": "3.8.5"
  }
 },
 "nbformat": 4,
 "nbformat_minor": 5
}
