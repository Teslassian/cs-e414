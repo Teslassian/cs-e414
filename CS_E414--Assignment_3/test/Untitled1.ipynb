{
 "cells": [
  {
   "cell_type": "code",
   "execution_count": 1,
   "id": "essential-wedding",
   "metadata": {},
   "outputs": [
    {
     "name": "stdout",
     "output_type": "stream",
     "text": [
      "['0.7868', '0.4764', '0.7121', '0.8705', '0.3112']\n",
      "['0.2132', '0.5236', '0.2879', '0.1295', '0.6888']\n"
     ]
    }
   ],
   "source": [
    "'''\n",
    "Computes responsibilities. Assumes one-dimensional data and a k component mixture model.\n",
    "\n",
    "@param p: mixture coeffecients.\n",
    "@type p: 1-dimensional real valued list of length k.\n",
    "\n",
    "@param u: class means.\n",
    "@type u: 1-dimensional real valued list of length k.\n",
    "\n",
    "@param s: class standard deviations.\n",
    "@type s: 1-dimensional real valued list of length k. \n",
    "\n",
    "@param x: vector of scalar observations\n",
    "@type x: 1-dimensional real valued list of length n.\n",
    "\n",
    "@param c: class label\n",
    "@type c: an integer in the range [0, k-1]\n",
    "\n",
    "@return: the calculated responsibility of each observation associated with class c\n",
    "@rtype: 1-dimensional real valued list of size n\n",
    "'''\n",
    "def estimate_gamma(p,u,s,x,c):\n",
    "    import math\n",
    "    from math import exp\n",
    "    from math import sqrt\n",
    "    \n",
    "    #You may assume that x will not be empty and that the user will provide valid inputs.\n",
    "    \n",
    "    g = [None]*len(x) #responsibilities\n",
    "    \n",
    "    N = len(x)\n",
    "    K = len(p)\n",
    "    PG_0 = [0]*N\n",
    "    PG_1 = [0]*N\n",
    "    PG_2 = [0]*N\n",
    "    PG_sum = [0]*N\n",
    "    for n in range(N):\n",
    "        PG_0[n] = p[0] * 1/sqrt(2 * math.pi * s[0]**2) * exp(-1/(2*s[0]**2) * (x[n]-u[0])**2)\n",
    "        PG_1[n] = p[1] * 1/sqrt(2 * math.pi * s[1]**2) * exp(-1/(2*s[1]**2) * (x[n]-u[1])**2)\n",
    "        if (len(p)>2):\n",
    "            PG_2[n] = p[2] * 1/sqrt(2 * math.pi * s[2]**2) * exp(-1/(2*s[2]**2) * (x[n]-u[2])**2)\n",
    "            PG_sum[n] = PG_0[n] + PG_1[n]  + PG_2[n]\n",
    "        else:\n",
    "            PG_sum[n] = PG_0[n] + PG_1[n]\n",
    "    \n",
    "    for n in range(N):\n",
    "        if c==0:\n",
    "            g[n] = PG_0[n] / PG_sum[n]\n",
    "        else:\n",
    "            g[n] = PG_1[n] / PG_sum[n]\n",
    "    \n",
    "    return g\n",
    "\n",
    "\n",
    "print([\"%.4f\"%item for item in estimate_gamma([0.6, 0.4], [175, 165], [10, 10], [179, 165, 175, 185, 158], 0)])\n",
    "print([\"%.4f\"%item for item in estimate_gamma([0.6, 0.4], [175, 165], [10, 10], [179, 165, 175, 185, 158], 1)])\n",
    "    \n",
    "# print([\"%.4f\"%item for item in estimate_gamma([0.4,0.6],[0,1],[1,1],[-1,1,1.2],0)])\n",
    "# print([\"%.4f\"%item for item in estimate_gamma([0.4,0.6],[0,1],[1,1],[-1,1,1.2],1)])\n",
    "# print([\"%.4f\"%item for item in estimate_gamma([0.3,0.7],[0,1],[2,1.5],[-3,1,5.2],1)])\n",
    "# print([\"%.4f\"%item for item in estimate_gamma([0.6,0.4],[2,3],[2,3],[5,1,3],1)])\n",
    "# print([\"%.4f\"%item for item in estimate_gamma([0.4,0.1,0.3],[0,1,0.5],[1,1,1],[-1, 1, 1.2],0)])"
   ]
  },
  {
   "cell_type": "code",
   "execution_count": null,
   "id": "younger-reading",
   "metadata": {},
   "outputs": [],
   "source": []
  }
 ],
 "metadata": {
  "kernelspec": {
   "display_name": "Python 3",
   "language": "python",
   "name": "python3"
  },
  "language_info": {
   "codemirror_mode": {
    "name": "ipython",
    "version": 3
   },
   "file_extension": ".py",
   "mimetype": "text/x-python",
   "name": "python",
   "nbconvert_exporter": "python",
   "pygments_lexer": "ipython3",
   "version": "3.8.5"
  }
 },
 "nbformat": 4,
 "nbformat_minor": 5
}
