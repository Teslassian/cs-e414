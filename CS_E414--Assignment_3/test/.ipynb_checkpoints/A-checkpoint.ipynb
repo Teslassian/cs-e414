{
 "cells": [
  {
   "cell_type": "code",
   "execution_count": 19,
   "id": "failing-reproduction",
   "metadata": {},
   "outputs": [],
   "source": [
    "import numpy as np\n",
    "from pprint import pprint\n",
    "X = np.array([[0,1],[2,3]])\n",
    "u = np.array([1,1])\n",
    "D = 2\n",
    "N = 2\n",
    "K = 2\n",
    "Ynj = [np.array([0.3, 0.4]), np.array([0.7, 0.6])]"
   ]
  },
  {
   "cell_type": "code",
   "execution_count": 20,
   "id": "basic-international",
   "metadata": {},
   "outputs": [],
   "source": [
    "Nj = []\n",
    "for k in range(K):\n",
    "    Nj.append(np.sum(Ynj[k]))"
   ]
  },
  {
   "cell_type": "code",
   "execution_count": 21,
   "id": "fleet-baseball",
   "metadata": {},
   "outputs": [],
   "source": [
    "S1 = 1/Nj[0] * Ynj[0] * (X-u) @ (X-u).T"
   ]
  },
  {
   "cell_type": "code",
   "execution_count": 22,
   "id": "caroline-watts",
   "metadata": {},
   "outputs": [
    {
     "name": "stdout",
     "output_type": "stream",
     "text": [
      "0.7\n",
      "[[ 0.42857143 -0.42857143]\n",
      " [-0.42857143  2.71428571]]\n"
     ]
    }
   ],
   "source": [
    "print(Nj[0])\n",
    "print(S1)"
   ]
  }
 ],
 "metadata": {
  "kernelspec": {
   "display_name": "Python 3",
   "language": "python",
   "name": "python3"
  },
  "language_info": {
   "codemirror_mode": {
    "name": "ipython",
    "version": 3
   },
   "file_extension": ".py",
   "mimetype": "text/x-python",
   "name": "python",
   "nbconvert_exporter": "python",
   "pygments_lexer": "ipython3",
   "version": "3.8.5"
  }
 },
 "nbformat": 4,
 "nbformat_minor": 5
}
