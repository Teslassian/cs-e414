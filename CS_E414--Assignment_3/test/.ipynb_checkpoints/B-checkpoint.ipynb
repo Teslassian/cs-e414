{
 "cells": [
  {
   "cell_type": "code",
   "execution_count": 35,
   "id": "intimate-turkish",
   "metadata": {},
   "outputs": [
    {
     "name": "stdout",
     "output_type": "stream",
     "text": [
      "1.0\n",
      "1.0\n",
      "0.9999999999999999\n",
      "1.0\n",
      "1.0\n",
      "0.9999999999999999\n",
      "1.0\n"
     ]
    }
   ],
   "source": [
    "'''\n",
    "Computes responsibilities. Assumes one-dimensional data and a two component mixture model.\n",
    "\n",
    "@param p: mixture coefficients.\n",
    "@type p: 1-dimensional list of floats of length 2.\n",
    "\n",
    "@param u: class means.\n",
    "@type u: 1-dimensional list of floats length 2.\n",
    "\n",
    "@param s: class standard deviations.\n",
    "@type s: 1-dimensional list of floats of length 2. \n",
    "\n",
    "@param x: vector of scalar observations\n",
    "@type x: 1-dimensional list of floats of length n.\n",
    "\n",
    "@param c: class label\n",
    "@type c: 1 or 0 [integer]\n",
    "\n",
    "@return: the calculated responsibility of each observation associated with class c\n",
    "@rtype: 1-dimensional list of floats of length n\n",
    "'''\n",
    "\n",
    "def estimate_gamma(p,u,s,x,c):\n",
    "    import math\n",
    "    from math import exp\n",
    "    from math import sqrt\n",
    "    from math import pi\n",
    "    from pprint import pprint\n",
    "    \n",
    "    #p[0] mixture coefficient for class 0\n",
    "    #p[1] mixture coefficient for class 1\n",
    "    #u[0] mean of class 0\n",
    "    #u[1] mean of class 1\n",
    "    #s[0] std of class 0\n",
    "    #s[1] std of class 1\n",
    "    #x vector of scalar observations\n",
    "    #c class label (can be either a 0 or 1)\n",
    "    \n",
    "    g = [None]*len(x) #responsibilities\n",
    "    \n",
    "    \n",
    "    N = len(x)\n",
    "    K = len(p)\n",
    "    PG_0 = [0]*N\n",
    "    PG_1 = [0]*N\n",
    "    PG_sum = [0]*N\n",
    "    for n in range(N):\n",
    "        PG_0[n] = p[0] * 1/sqrt(2 * pi * s[0]**2) * exp(-1/(2*s[0]**2) * (x[n]-u[0])**2)\n",
    "        PG_1[n] = p[1] * 1/sqrt(2 * pi * s[1]**2) * exp(-1/(2*s[1]**2) * (x[n]-u[1])**2)\n",
    "        PG_sum[n] = PG_0[n] + PG_1[n]\n",
    "        \n",
    "    for n in range(N):\n",
    "        if c==0:\n",
    "            g[n] = PG_0[n] / PG_sum[n]\n",
    "        else:\n",
    "            g[n] = PG_1[n] / PG_sum[n]\n",
    "\n",
    "    return g\n",
    "    \n",
    "g1 = estimate_gamma([0.4, 0.6], [0, 1], [0.5, 0.6], [0.1, -0.2, -3, 0.4, 0.5, -3, 7], 1)\n",
    "g0 = estimate_gamma([0.4, 0.6], [0, 1], [0.5, 0.6], [0.1, -0.2, -3, 0.4, 0.5, -3, 7], 0)\n",
    "\n",
    "for n in range(len(g1)):\n",
    "    print(g0[n]+g1[n])"
   ]
  },
  {
   "cell_type": "code",
   "execution_count": null,
   "id": "subsequent-values",
   "metadata": {},
   "outputs": [],
   "source": []
  }
 ],
 "metadata": {
  "kernelspec": {
   "display_name": "Python 3",
   "language": "python",
   "name": "python3"
  },
  "language_info": {
   "codemirror_mode": {
    "name": "ipython",
    "version": 3
   },
   "file_extension": ".py",
   "mimetype": "text/x-python",
   "name": "python",
   "nbconvert_exporter": "python",
   "pygments_lexer": "ipython3",
   "version": "3.8.5"
  }
 },
 "nbformat": 4,
 "nbformat_minor": 5
}
