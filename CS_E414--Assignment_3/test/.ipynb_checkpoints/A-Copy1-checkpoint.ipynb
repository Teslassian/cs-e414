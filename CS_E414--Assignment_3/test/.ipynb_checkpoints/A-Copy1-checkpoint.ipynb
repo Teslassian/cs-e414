{
 "cells": [
  {
   "cell_type": "code",
   "execution_count": 5,
   "id": "stupid-rocket",
   "metadata": {},
   "outputs": [],
   "source": [
    "import numpy as np\n",
    "from pprint import pprint\n",
    "X = np.array([[179,165,175,185,158]])\n",
    "Uj = [175, 165]\n",
    "Sj = [10, 10]\n",
    "Pj = [0.5, 0.5]\n",
    "C = [0, 1]\n",
    "D = 1\n",
    "N = 5\n",
    "K = 2"
   ]
  },
  {
   "cell_type": "code",
   "execution_count": 6,
   "id": "south-cassette",
   "metadata": {},
   "outputs": [
    {
     "name": "stdout",
     "output_type": "stream",
     "text": [
      "[0.5999764887392778, 0.4000235112607221]\n",
      "[17.321326446132325, 12.835885281411901]\n",
      "[array([179.64433879]), array([161.53455627])]\n"
     ]
    }
   ],
   "source": [
    "PnjGnj = []\n",
    "PnjGnj_sum = 0\n",
    "Ynj = []\n",
    "for c, k in zip(C, range(K)):\n",
    "    PnGn = np.zeros((N))\n",
    "    for n in range(N):\n",
    "        PnGn[n] = Pj[k] * 1/np.sqrt(2*np.pi*Sj[k]) * np.exp(-0.5 * 1/Sj[k] * (X[:,n]-Uj[k])**2)\n",
    "    PnjGnj.append(PnGn)\n",
    "    PnjGnj_sum += PnjGnj[k]\n",
    "for c, k in zip(C, range(K)):\n",
    "    Ynj.append(PnjGnj[k] / PnjGnj_sum)\n",
    "\n",
    "# Maximization Step\n",
    "Nj = []\n",
    "Pj = []\n",
    "Uj = []\n",
    "Sj = []\n",
    "for c, k in zip(C, range(K)):\n",
    "    Nj.append(np.sum(Ynj[k]))\n",
    "    Pj.append(Nj[k]/N)\n",
    "    Uj.append((1/Nj[k] * X @ Ynj[k][:,np.newaxis]))\n",
    "    Sj.append(1/Nj[k] * (Ynj[k] * (X - Uj[k])) @ (X - Uj[k]).T)\n",
    "    \n",
    "print(Pj)\n",
    "print(Sj)\n",
    "print(Uj)"
   ]
  },
  {
   "cell_type": "code",
   "execution_count": null,
   "id": "trained-lebanon",
   "metadata": {},
   "outputs": [],
   "source": []
  }
 ],
 "metadata": {
  "kernelspec": {
   "display_name": "Python 3",
   "language": "python",
   "name": "python3"
  },
  "language_info": {
   "codemirror_mode": {
    "name": "ipython",
    "version": 3
   },
   "file_extension": ".py",
   "mimetype": "text/x-python",
   "name": "python",
   "nbconvert_exporter": "python",
   "pygments_lexer": "ipython3",
   "version": "3.8.5"
  }
 },
 "nbformat": 4,
 "nbformat_minor": 5
}
