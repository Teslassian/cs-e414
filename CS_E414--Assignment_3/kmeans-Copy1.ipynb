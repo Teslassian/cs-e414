{
 "cells": [
  {
   "cell_type": "markdown",
   "id": "intimate-hurricane",
   "metadata": {},
   "source": [
    "**Please write a generic python function (in a separate package) which implements a generic version of the K-means algorithm. Your function should take as input a $d$-dimensional data set and the number of clusters into which you wish to group your data set. Return the means of your K-clusters and the assigned labels of your dataset (use 1-of-K coding to represent your labels). Initialize your means with two random samples.**"
   ]
  },
  {
   "cell_type": "code",
   "execution_count": 14,
   "id": "confident-grill",
   "metadata": {},
   "outputs": [
    {
     "name": "stdout",
     "output_type": "stream",
     "text": [
      "[0 0 0 0 0 1 1 1 1 2 2 2 2 2 2 2 2 2 2 2]\n",
      "[array([[13.5]]), array([[40.]]), array([[291.25]])]\n",
      "0\n",
      "[0 0 0 0 0 1 1 1 1 1 1 1 1 1 1 1 1 1 1 1]\n",
      "[array([[3.6]]), array([[88.33333333]]), array([[0.]])]\n",
      "1\n",
      "[0 0 0 0 0 0 0 0 1 1 1 1 1 1 1 1 1 1 1 1]\n",
      "[array([[13.66666667]]), array([[101.25]]), array([[0.]])]\n",
      "2\n",
      "[2 2 0 0 0 0 0 0 0 1 1 1 1 1 1 1 1 1 1 1]\n",
      "[array([[18.72727273]]), array([[105.90909091]]), array([[0.72727273]])]\n",
      "3\n",
      "[2 2 2 0 0 0 0 0 0 0 1 1 1 1 1 1 1 1 1 1]\n",
      "[array([[25.7]]), array([[110.6]]), array([[1.6]])]\n",
      "4\n",
      "[2 2 2 0 0 0 0 0 0 0 0 1 1 1 1 1 1 1 1 1]\n",
      "[array([[36.]]), array([[115.44444444]]), array([[1.77777778]])]\n",
      "5\n",
      "[2 2 2 2 0 0 0 0 0 0 0 0 1 1 1 1 1 1 1 1]\n",
      "[array([[47.625]]), array([[120.75]]), array([[4.]])]\n",
      "6\n",
      "[2 2 2 2 2 0 0 0 0 0 0 0 0 1 1 1 1 1 1 1]\n",
      "[array([[63.28571429]]), array([[126.]]), array([[7.71428571]])]\n",
      "7\n",
      "[2 2 2 2 2 2 0 0 0 0 0 0 0 1 1 1 1 1 1 1]\n",
      "[array([[58.85714286]]), array([[126.]]), array([[12.14285714]])]\n",
      "8\n",
      "[2 2 2 2 2 2 0 0 0 0 0 0 0 1 1 1 1 1 1 1]\n",
      "[array([[58.85714286]]), array([[126.]]), array([[12.14285714]])]\n",
      "9\n"
     ]
    }
   ],
   "source": [
    "import numpy as np\n",
    "from importer import *\n",
    "\n",
    "X= np.array ([[3,5,8,16,22,31,36,43,50,59,67,73,84,96,103,111,126,141,145,160]])\n",
    "d = X.shape[0]\n",
    "N = X.shape[1]\n",
    "C = [0,1,2]\n",
    "K = len(C)\n",
    "u = [13, 39, 69]\n",
    "\n",
    "for i in range(10):\n",
    "    Xk = np.zeros((N,K))\n",
    "    for k in range(K):\n",
    "        Xk[:,k] = np.linalg.norm((X - u[k]), axis=0)\n",
    "    l = np.argmin(Xk, axis=1)\n",
    "    print(l)\n",
    "    u = []\n",
    "    for c in C:\n",
    "        u.append((np.sum(X[:,l==c], axis=1) / np.sum([l==1]))[:,np.newaxis])\n",
    "    print(u)\n",
    "    print(i)\n"
   ]
  },
  {
   "cell_type": "code",
   "execution_count": null,
   "id": "played-twelve",
   "metadata": {},
   "outputs": [],
   "source": []
  }
 ],
 "metadata": {
  "kernelspec": {
   "display_name": "Python 3",
   "language": "python",
   "name": "python3"
  },
  "language_info": {
   "codemirror_mode": {
    "name": "ipython",
    "version": 3
   },
   "file_extension": ".py",
   "mimetype": "text/x-python",
   "name": "python",
   "nbconvert_exporter": "python",
   "pygments_lexer": "ipython3",
   "version": "3.8.5"
  }
 },
 "nbformat": 4,
 "nbformat_minor": 5
}
