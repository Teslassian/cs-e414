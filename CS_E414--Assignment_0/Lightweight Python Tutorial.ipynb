{
 "cells": [
  {
   "cell_type": "code",
   "execution_count": 112,
   "id": "indian-celebrity",
   "metadata": {},
   "outputs": [],
   "source": [
    "from IPython.display import HTML"
   ]
  },
  {
   "cell_type": "markdown",
   "id": "coated-counter",
   "metadata": {},
   "source": [
    "This is a very lightweight tutorial on Python. It is, of course, developed in iPython notebook. For a comprehensive tutorial on the use of iPython notebook see Nelis Willers's tutorial on [Sun learn](http://learn.sun.ac.za).\n",
    "\n",
    "Two tutorials on Python can be found [here](http://www.introtopython.org/) and [here](https://developers.google.com/edu/python/). There are many others available on the web.\n",
    "\n",
    "You are well-advised to read through Nelis's iPython tutorial. You will be required to submit your projects as iPython notebooks. Fortunately it is very intuitive and you should not have any problems to get going.\n",
    "\n",
    "The one thing you should note is that the notebook operates in two modes that are relevant to us. The cells above and below this one are code cells. If you run them the pyhton code is executed.\n",
    "\n",
    "This cell operates in markdown mode. This is where you enter text. In this mode one can do nifty things, like entering maths using LaTeX, e.g. $$ I = \\int_0^1 e^{-x^2} dx. $$ Unfortunately it does not understand all LaTeX commands but Nelis Willers is working on an extension for LaTeX. You should find this in the resources directory.\n",
    "\n",
    "If you run a markdown cell the text is rendered for display in an attractive way. Read the Willers tutorial!"
   ]
  },
  {
   "cell_type": "code",
   "execution_count": 3,
   "id": "negative-effect",
   "metadata": {},
   "outputs": [],
   "source": [
    "# This is the preferred way to display figures inline.\n",
    "%matplotlib inline"
   ]
  },
  {
   "cell_type": "markdown",
   "id": "pursuant-leader",
   "metadata": {},
   "source": [
    "Next we import a few common libraries. Note the different possibilities. These are not the only ones."
   ]
  },
  {
   "cell_type": "code",
   "execution_count": 4,
   "id": "urban-strain",
   "metadata": {},
   "outputs": [],
   "source": [
    "import numpy as np\n",
    "import scipy as sc\n",
    "from matplotlib import pylab as plt"
   ]
  },
  {
   "cell_type": "markdown",
   "id": "confirmed-cooler",
   "metadata": {},
   "source": [
    "Let us write a sort program that plots $\\sin(x)$ against $x$."
   ]
  },
  {
   "cell_type": "code",
   "execution_count": 5,
   "id": "second-mixture",
   "metadata": {},
   "outputs": [
    {
     "data": {
      "image/png": "[encoded data removed]",
      "text/plain": [
       "<Figure size 432x288 with 1 Axes>"
      ]
     },
     "metadata": {
      "needs_background": "light"
     },
     "output_type": "display_data"
    }
   ],
   "source": [
    "x = np.linspace(0.,2*np.pi,100)\n",
    "y = np.sin(x)\n",
    "plt.plot(x,y)\n",
    "plt.show()"
   ]
  },
  {
   "cell_type": "markdown",
   "id": "transparent-commander",
   "metadata": {},
   "source": [
    "Note the following Python eccentricities. Note that integer division is being phased out, and from Python 3.x, 1/2 will give you 0.5.\n"
   ]
  },
  {
   "cell_type": "code",
   "execution_count": 7,
   "id": "animal-duration",
   "metadata": {},
   "outputs": [
    {
     "name": "stdout",
     "output_type": "stream",
     "text": [
      "0.5\n",
      "0.5\n"
     ]
    }
   ],
   "source": [
    "print(1/2)\n",
    "print(1./2)"
   ]
  },
  {
   "cell_type": "markdown",
   "id": "chubby-standard",
   "metadata": {},
   "source": [
    "Indentation. Code blocks are indicated by indentation. You can use tabs, but that is not encouraged since the tab character may be intepreted differently acros platforms. Instead use spaces, 4 spaces per indentation. Look at the following examples:"
   ]
  },
  {
   "cell_type": "code",
   "execution_count": 8,
   "id": "middle-johnston",
   "metadata": {},
   "outputs": [
    {
     "ename": "SyntaxError",
     "evalue": "Missing parentheses in call to 'print'. Did you mean print(x)? (<ipython-input-8-6e4764df2748>, line 3)",
     "output_type": "error",
     "traceback": [
      "\u001b[1;36m  File \u001b[1;32m\"<ipython-input-8-6e4764df2748>\"\u001b[1;36m, line \u001b[1;32m3\u001b[0m\n\u001b[1;33m    print x\u001b[0m\n\u001b[1;37m          ^\u001b[0m\n\u001b[1;31mSyntaxError\u001b[0m\u001b[1;31m:\u001b[0m Missing parentheses in call to 'print'. Did you mean print(x)?\n"
     ]
    }
   ],
   "source": [
    "x = 1\n",
    "while x<=10: \n",
    "    print x\n",
    "    x += 1"
   ]
  },
  {
   "cell_type": "markdown",
   "id": "civilian-thousand",
   "metadata": {},
   "source": [
    "Did you notice the nifty, x += 1, statement above? It is the same as x = x + 1, saving you a few keystrokes.\n",
    "Another nifty feature is available if you want to swap the values of two variables. Also note that you can assign values to two variables at the same time."
   ]
  },
  {
   "cell_type": "code",
   "execution_count": 111,
   "id": "elementary-organic",
   "metadata": {},
   "outputs": [
    {
     "name": "stdout",
     "output_type": "stream",
     "text": [
      "1 45\n",
      "45 1\n"
     ]
    }
   ],
   "source": [
    "x, y = 1, 45\n",
    "print x,y\n",
    "x,y = y,x\n",
    "print x,y"
   ]
  },
  {
   "cell_type": "markdown",
   "id": "tough-affiliate",
   "metadata": {},
   "source": [
    "Another common iterator:"
   ]
  },
  {
   "cell_type": "code",
   "execution_count": 12,
   "id": "spiritual-virus",
   "metadata": {},
   "outputs": [
    {
     "name": "stdout",
     "output_type": "stream",
     "text": [
      "0\n",
      "1\n",
      "2\n",
      "3\n",
      "4\n",
      "5\n",
      "6\n",
      "7\n",
      "8\n",
      "9\n"
     ]
    }
   ],
   "source": [
    "for x in range(10):\n",
    "    print x"
   ]
  },
  {
   "cell_type": "markdown",
   "id": "covered-electricity",
   "metadata": {},
   "source": [
    "This is how we define a function"
   ]
  },
  {
   "cell_type": "code",
   "execution_count": 14,
   "id": "romance-account",
   "metadata": {},
   "outputs": [
    {
     "data": {
      "text/plain": [
       "[<matplotlib.lines.Line2D at 0x106322450>]"
      ]
     },
     "execution_count": 14,
     "metadata": {},
     "output_type": "execute_result"
    },
    {
     "data": {
      "image/png": "[encoded data removed]",
      "text/plain": [
       "<matplotlib.figure.Figure at 0x106328c10>"
      ]
     },
     "metadata": {},
     "output_type": "display_data"
    }
   ],
   "source": [
    "def f(x):\n",
    "    return x**2\n",
    "\n",
    "x = np.array([1.,2.,3.,4.])\n",
    "y = f(x)\n",
    "plt.plot(x,y)"
   ]
  },
  {
   "cell_type": "markdown",
   "id": "level-arcade",
   "metadata": {},
   "source": [
    "Study the following example carefully. It illustrates a number of concepts, including recursion.\n",
    "\n",
    "One should be careful with recursion to make sure that it terminates. But the result is clean code."
   ]
  },
  {
   "cell_type": "code",
   "execution_count": 104,
   "id": "simple-collect",
   "metadata": {},
   "outputs": [
    {
     "name": "stdout",
     "output_type": "stream",
     "text": [
      "1\n",
      "120\n"
     ]
    }
   ],
   "source": [
    "def factorial(n):\n",
    "    if n==1:\n",
    "        return 1\n",
    "    else:\n",
    "        return n*factorial(n-1)\n",
    "    \n",
    "print factorial(1)\n",
    "print factorial(5)"
   ]
  },
  {
   "cell_type": "markdown",
   "id": "known-supplier",
   "metadata": {},
   "source": [
    "Python has very useful data structures. We give examples of the tuple, list, and dictionary. Another unusual but frequently useful data structure is the set, not discussed here.\n",
    "\n",
    "The simplest, and the one you can't do much with, is the tuple. You can access its entries, but you can't change them. You will most often encounter them as the return of a function call. Earlier we defined a numpy array which we called x. Let us try the following:"
   ]
  },
  {
   "cell_type": "code",
   "execution_count": 16,
   "id": "breeding-supervision",
   "metadata": {},
   "outputs": [
    {
     "data": {
      "text/plain": [
       "(4,)"
      ]
     },
     "execution_count": 16,
     "metadata": {},
     "output_type": "execute_result"
    }
   ],
   "source": [
    "x.shape"
   ]
  },
  {
   "cell_type": "markdown",
   "id": "moderate-doctrine",
   "metadata": {},
   "source": [
    "The return is a tuple. It tells us that x is one-dimensional, and has 4 entries. Now try:"
   ]
  },
  {
   "cell_type": "code",
   "execution_count": 17,
   "id": "compact-arrangement",
   "metadata": {},
   "outputs": [
    {
     "name": "stdout",
     "output_type": "stream",
     "text": [
      "(4,)\n",
      "4\n"
     ]
    }
   ],
   "source": [
    "m = x.shape\n",
    "print m\n",
    "print m[0]"
   ]
  },
  {
   "cell_type": "markdown",
   "id": "occupied-liquid",
   "metadata": {},
   "source": [
    "Do you see the difference between m and m[0]? \n",
    "Note: Labeling in Python starts at 0\n",
    "Note: Remember the comma if you want to define a tuple with only one entry!"
   ]
  },
  {
   "cell_type": "markdown",
   "id": "intermediate-howard",
   "metadata": {},
   "source": [
    "The first really useful datastructure is the list:"
   ]
  },
  {
   "cell_type": "code",
   "execution_count": 31,
   "id": "recovered-european",
   "metadata": {},
   "outputs": [],
   "source": [
    "numbers = [1.,2.,3.,4.,5.]"
   ]
  },
  {
   "cell_type": "markdown",
   "id": "applied-craps",
   "metadata": {},
   "source": [
    "A few useful list operations:\n",
    "\n",
    "The first  is uxpected but useful. It also means that a list behaves very different matrices (numpy arrays)."
   ]
  },
  {
   "cell_type": "code",
   "execution_count": 103,
   "id": "pediatric-plumbing",
   "metadata": {},
   "outputs": [
    {
     "name": "stdout",
     "output_type": "stream",
     "text": [
      "[1.0, 2.0, 3.0, 4.0, 5.0, 10, 1.0, 2.0, 3.0, 4.0, 5.0, 10]\n",
      "[1.0, 2.0, 3.0, 4.0, 5.0, 10, 1.0, 2.0, 3.0, 4.0, 5.0, 10]\n"
     ]
    }
   ],
   "source": [
    "print numbers+numbers\n",
    "print 2*numbers\n"
   ]
  },
  {
   "cell_type": "markdown",
   "id": "imposed-phenomenon",
   "metadata": {},
   "source": [
    "Slicing:"
   ]
  },
  {
   "cell_type": "code",
   "execution_count": 94,
   "id": "incorporated-mongolia",
   "metadata": {},
   "outputs": [
    {
     "name": "stdout",
     "output_type": "stream",
     "text": [
      "[1.0, 2.0]\n",
      "3.0\n"
     ]
    }
   ],
   "source": [
    "print numbers[:2] # print the first two entries\n",
    "print numbers[2]"
   ]
  },
  {
   "cell_type": "code",
   "execution_count": 23,
   "id": "impressed-announcement",
   "metadata": {},
   "outputs": [
    {
     "name": "stdout",
     "output_type": "stream",
     "text": [
      "[3.0, 4.0]\n"
     ]
    }
   ],
   "source": [
    "print numbers[2:4] #Here you need to remember that indexing starts at 0."
   ]
  },
  {
   "cell_type": "code",
   "execution_count": 24,
   "id": "patent-pressure",
   "metadata": {},
   "outputs": [
    {
     "name": "stdout",
     "output_type": "stream",
     "text": [
      "[4.0, 5.0]\n"
     ]
    }
   ],
   "source": [
    "print numbers[3:] # Print from the 3rd index until the end"
   ]
  },
  {
   "cell_type": "code",
   "execution_count": 26,
   "id": "floral-partner",
   "metadata": {},
   "outputs": [
    {
     "name": "stdout",
     "output_type": "stream",
     "text": [
      "5.0\n",
      "4.0\n"
     ]
    }
   ],
   "source": [
    "print numbers[-1] # Print the last entry\n",
    "print numbers[-2] # Print the second last entry"
   ]
  },
  {
   "cell_type": "code",
   "execution_count": 27,
   "id": "charitable-prediction",
   "metadata": {},
   "outputs": [
    {
     "name": "stdout",
     "output_type": "stream",
     "text": [
      "5\n"
     ]
    }
   ],
   "source": [
    "print len(numbers)"
   ]
  },
  {
   "cell_type": "code",
   "execution_count": 32,
   "id": "found-architecture",
   "metadata": {},
   "outputs": [
    {
     "name": "stdout",
     "output_type": "stream",
     "text": [
      "[1.0, 2.0, 3.0, 4.0, 5.0, 10]\n"
     ]
    }
   ],
   "source": [
    "numbers.append(10) # Add 10 to the end of the list\n",
    "print numbers"
   ]
  },
  {
   "cell_type": "markdown",
   "id": "spiritual-checklist",
   "metadata": {},
   "source": [
    "Let us calculate the first n Fibonacci numbers."
   ]
  },
  {
   "cell_type": "code",
   "execution_count": 109,
   "id": "accessible-tragedy",
   "metadata": {},
   "outputs": [
    {
     "name": "stdout",
     "output_type": "stream",
     "text": [
      "[0, 1, 1, 2, 3, 5, 8, 13, 21, 34]\n"
     ]
    }
   ],
   "source": [
    "def fibonacci(n):\n",
    "    fib = [0,1]\n",
    "    for i in range(n-2):\n",
    "        fib.append(fib[-1]+fib[-2])\n",
    "    return fib\n",
    "print fibonacci(10)"
   ]
  },
  {
   "cell_type": "markdown",
   "id": "dominant-sequence",
   "metadata": {},
   "source": [
    "List comprehension is an easy, intuitive way of creating/operating on lists, as the following example illustrates:"
   ]
  },
  {
   "cell_type": "code",
   "execution_count": 110,
   "id": "utility-removal",
   "metadata": {},
   "outputs": [
    {
     "name": "stdout",
     "output_type": "stream",
     "text": [
      "[0, 1, 4, 9, 16, 25, 36, 49, 64, 81]\n"
     ]
    }
   ],
   "source": [
    "print [x**2 for x in range(10)]"
   ]
  },
  {
   "cell_type": "markdown",
   "id": "eleven-reflection",
   "metadata": {},
   "source": [
    "One of Python's unique features is the built-in dictionary.\n",
    "\n",
    "Dictionaries consist of of a \"key\" and an associated \"value\". Let us try a simple example. We want to save the phone numbers and age of Bob, Ted and Alice. We create a dictionary with keys, Bob, Ted, and Alice. Each value asociated with a key is another dictionary with its own keys, phone, and age, with their respective values:"
   ]
  },
  {
   "cell_type": "code",
   "execution_count": 108,
   "id": "green-gossip",
   "metadata": {},
   "outputs": [],
   "source": [
    "people = {'Bob' : {'age' : 40 ,'phone' : '021'}, 'Ted' : {'age' : 50,'phone' : '012'}, 'Alice' : {'age' : 29, 'phone' : '051'}}"
   ]
  },
  {
   "cell_type": "code",
   "execution_count": 106,
   "id": "conditional-laptop",
   "metadata": {},
   "outputs": [
    {
     "data": {
      "text/plain": [
       "{'age': 40, 'phone': '021'}"
      ]
     },
     "execution_count": 106,
     "metadata": {},
     "output_type": "execute_result"
    }
   ],
   "source": [
    "people['Bob']"
   ]
  },
  {
   "cell_type": "code",
   "execution_count": 53,
   "id": "gross-naples",
   "metadata": {},
   "outputs": [
    {
     "data": {
      "text/plain": [
       "50"
      ]
     },
     "execution_count": 53,
     "metadata": {},
     "output_type": "execute_result"
    }
   ],
   "source": [
    "people['Ted']['age']"
   ]
  },
  {
   "cell_type": "code",
   "execution_count": 57,
   "id": "australian-darwin",
   "metadata": {},
   "outputs": [
    {
     "data": {
      "text/plain": [
       "['Bob', 'Ted', 'Alice']"
      ]
     },
     "execution_count": 57,
     "metadata": {},
     "output_type": "execute_result"
    }
   ],
   "source": [
    "people.keys()  # Retrieving the keys"
   ]
  },
  {
   "cell_type": "markdown",
   "id": "optical-porcelain",
   "metadata": {},
   "source": [
    "Above we saw that lists in Python behave very unlike matrix arrays. The numpy library provides just about all the matrix operation you ever need. You will use Numpy a lot. Let us try a few simple examples."
   ]
  },
  {
   "cell_type": "code",
   "execution_count": 60,
   "id": "burning-polls",
   "metadata": {},
   "outputs": [
    {
     "name": "stdout",
     "output_type": "stream",
     "text": [
      "[[ 1.  2.  3.]\n",
      " [ 1.  1.  1.]]\n"
     ]
    }
   ],
   "source": [
    "A = np.array([[1.,2.,3.],[1,1,1]]) \n",
    "print A"
   ]
  },
  {
   "cell_type": "code",
   "execution_count": 61,
   "id": "stainless-attachment",
   "metadata": {},
   "outputs": [
    {
     "name": "stdout",
     "output_type": "stream",
     "text": [
      "(2, 3)\n"
     ]
    }
   ],
   "source": [
    "print A.shape"
   ]
  },
  {
   "cell_type": "markdown",
   "id": "printable-bidding",
   "metadata": {},
   "source": [
    "It is a 2x3 matrix"
   ]
  },
  {
   "cell_type": "code",
   "execution_count": 62,
   "id": "atomic-inside",
   "metadata": {},
   "outputs": [
    {
     "name": "stdout",
     "output_type": "stream",
     "text": [
      "[[ 1.  1.]\n",
      " [ 2.  1.]\n",
      " [ 3.  1.]]\n"
     ]
    }
   ],
   "source": [
    "print A.T  # Easy way to get the transpose"
   ]
  },
  {
   "cell_type": "markdown",
   "id": "julian-spouse",
   "metadata": {},
   "source": [
    "Matrix multiplication. First define a vector x, we want to multiply $Ax$. This is done using the Numpy function, \"dot\""
   ]
  },
  {
   "cell_type": "code",
   "execution_count": 64,
   "id": "sapphire-purse",
   "metadata": {},
   "outputs": [
    {
     "name": "stdout",
     "output_type": "stream",
     "text": [
      "[ 6.  3.]\n"
     ]
    }
   ],
   "source": [
    "x = np.array([1,1,1])\n",
    "print np.dot(A,x)"
   ]
  },
  {
   "cell_type": "markdown",
   "id": "treated-bobby",
   "metadata": {},
   "source": [
    "Another example"
   ]
  },
  {
   "cell_type": "code",
   "execution_count": 65,
   "id": "descending-mother",
   "metadata": {},
   "outputs": [
    {
     "data": {
      "text/plain": [
       "array([[  9.,  11.],\n",
       "       [  4.,   5.]])"
      ]
     },
     "execution_count": 65,
     "metadata": {},
     "output_type": "execute_result"
    }
   ],
   "source": [
    "B = np.array([[1,1],[1,2],[2,2]])\n",
    "np.dot(A,B)"
   ]
  },
  {
   "cell_type": "markdown",
   "id": "manual-amateur",
   "metadata": {},
   "source": [
    "There is one peculiarity that trips me up all the time. Look at the following example."
   ]
  },
  {
   "cell_type": "code",
   "execution_count": 66,
   "id": "integral-power",
   "metadata": {},
   "outputs": [
    {
     "name": "stdout",
     "output_type": "stream",
     "text": [
      "(3,)\n"
     ]
    }
   ],
   "source": [
    "x = np.array([1,2,1])\n",
    "print x.shape\n"
   ]
  },
  {
   "cell_type": "markdown",
   "id": "painful-consolidation",
   "metadata": {},
   "source": [
    "I guess this looks like a row vector. Let us try and take its transpose:"
   ]
  },
  {
   "cell_type": "code",
   "execution_count": 67,
   "id": "tutorial-delivery",
   "metadata": {},
   "outputs": [
    {
     "name": "stdout",
     "output_type": "stream",
     "text": [
      "[1 2 1]\n"
     ]
    }
   ],
   "source": [
    "print x.T"
   ]
  },
  {
   "cell_type": "markdown",
   "id": "northern-jonathan",
   "metadata": {},
   "source": [
    "Nothing happend. It is because x is not a matrix, more something akin to a list. It does not understand the notion of a \"row\" or a \"column\" vector.\n",
    "\n",
    "There are different ways of fixing it."
   ]
  },
  {
   "cell_type": "code",
   "execution_count": 71,
   "id": "pediatric-brisbane",
   "metadata": {},
   "outputs": [
    {
     "name": "stdout",
     "output_type": "stream",
     "text": [
      "(1, 3)\n",
      "[[1 2 1]]\n"
     ]
    }
   ],
   "source": [
    "y = np.array([[1, 2, 1]])  # Define it to have two dimensions\n",
    "print y.shape\n",
    "print y"
   ]
  },
  {
   "cell_type": "markdown",
   "id": "cathedral-canvas",
   "metadata": {},
   "source": [
    "$y$ is now a 1x3 matrix, i.e. a row vector"
   ]
  },
  {
   "cell_type": "code",
   "execution_count": 72,
   "id": "corresponding-partner",
   "metadata": {},
   "outputs": [
    {
     "name": "stdout",
     "output_type": "stream",
     "text": [
      "[[1]\n",
      " [2]\n",
      " [1]]\n"
     ]
    }
   ],
   "source": [
    "print y.T  # This is a column vector"
   ]
  },
  {
   "cell_type": "code",
   "execution_count": 80,
   "id": "yellow-routine",
   "metadata": {},
   "outputs": [
    {
     "name": "stdout",
     "output_type": "stream",
     "text": [
      "(1, 3)\n",
      "[[1 2 1]]\n"
     ]
    }
   ],
   "source": [
    "xx = np.array(x,ndmin=2)  # Redefine x\n",
    "print xx.shape\n",
    "print xx\n"
   ]
  },
  {
   "cell_type": "markdown",
   "id": "funded-partner",
   "metadata": {},
   "source": [
    "Or you can do it this way, the preferred way: (Note that the first way creates a column vector."
   ]
  },
  {
   "cell_type": "code",
   "execution_count": 82,
   "id": "everyday-possibility",
   "metadata": {},
   "outputs": [
    {
     "name": "stdout",
     "output_type": "stream",
     "text": [
      "(3, 1)\n",
      "[[1]\n",
      " [2]\n",
      " [1]]\n"
     ]
    }
   ],
   "source": [
    "xx = x[:,np.newaxis]\n",
    "print xx.shape\n",
    "print xx\n"
   ]
  },
  {
   "cell_type": "markdown",
   "id": "equipped-riding",
   "metadata": {},
   "source": [
    "If you want a row vector: \n"
   ]
  },
  {
   "cell_type": "code",
   "execution_count": 84,
   "id": "polish-shade",
   "metadata": {},
   "outputs": [
    {
     "name": "stdout",
     "output_type": "stream",
     "text": [
      "(1, 3)\n",
      "[[1 2 1]]\n"
     ]
    }
   ],
   "source": [
    "xx = x[np.newaxis,:]\n",
    "print xx.shape\n",
    "print xx"
   ]
  },
  {
   "cell_type": "code",
   "execution_count": null,
   "id": "wrapped-province",
   "metadata": {},
   "outputs": [],
   "source": []
  }
 ],
 "metadata": {
  "kernelspec": {
   "display_name": "Python 3",
   "language": "python",
   "name": "python3"
  },
  "language_info": {
   "codemirror_mode": {
    "name": "ipython",
    "version": 3
   },
   "file_extension": ".py",
   "mimetype": "text/x-python",
   "name": "python",
   "nbconvert_exporter": "python",
   "pygments_lexer": "ipython3",
   "version": "3.8.5"
  }
 },
 "nbformat": 4,
 "nbformat_minor": 1
}
